{
 "cells": [
  {
   "cell_type": "markdown",
   "metadata": {},
   "source": [
    "\n"
   ]
  },
  {
   "cell_type": "code",
   "execution_count": 1,
   "metadata": {},
   "outputs": [],
   "source": [
    "import numpy as np\n",
    "import os\n",
    "import pickle\n",
    "import torch\n",
    "from typing import List, Dict\n",
    "import pandas as pd\n",
    "import torch.nn.functional as F\n",
    "from genReLiTu import plot_detection_heatmaps"
   ]
  },
  {
   "cell_type": "code",
   "execution_count": 2,
   "metadata": {},
   "outputs": [],
   "source": [
    "dataset = \"fmnist\"\n",
    "attack_defense_data = {\n",
    "    \"NEUROTOXIN\": {\n",
    "        \"AVG\": \"../NormalRun/FL_Backdoor_CV/resultWithTime/2024-09-12_23-26-43-avg_NEUROTOXIN-fmnist/\",\n",
    "        # \"FLAME\": \"FL_Backdoor_CV/2024-09-11_01-57-26/\",\n",
    "        \"FLTRUST\": \"FL_Backdoor_CV/2024-09-11_12-39-47/\",\n",
    "    },\n",
    "    \"MR\": {\n",
    "        \"AVG\": \"FL_Backdoor_CV/2024-09-11_16-29-41/\",\n",
    "        # \"FLAME\": \"FL_Backdoor_CV/2024-09-11_05-15-58/\",\n",
    "        \"FLTRUST\": \"FL_Backdoor_CV/2024-09-11_06-21-04/\",\n",
    "    },\n",
    "    \"EDGE_CASE\": {\n",
    "        \"AVG\": \"FL_Backdoor_CV/2024-09-11_17-32-14/\",\n",
    "        # \"FLAME\": \"FL_Backdoor_CV/2024-09-11_10-44-13/\",\n",
    "        \"FLTRUST\": \"FL_Backdoor_CV/2024-09-11_13-45-18/\",\n",
    "    },\n",
    "}"
   ]
  },
  {
   "cell_type": "code",
   "execution_count": 3,
   "metadata": {},
   "outputs": [],
   "source": [
    "# for attack, attack2data in attack_defense_data.items():\n",
    "#     true_labels = []\n",
    "#     labels_get_by_Euclid = []\n",
    "#     labels_get_by_manhattan = []\n",
    "#     labels_get_by_cosine = []\n",
    "#     labels_get_by_chi_square = []\n",
    "#     for denfense, data_folder in attack2data.items():\n",
    "#         if denfense != \"AVG\":\n",
    "#             continue\n",
    "#         participant_file_name = f\"{data_folder}participants/participants.csv\"\n",
    "#         participants = np.genfromtxt(\n",
    "#             participant_file_name, delimiter=\",\", dtype=None, encoding=\"utf-8\"\n",
    "#         )\n",
    "#         participants = participants[1:].T\n",
    "#         for i in range(len(participants) - 1):\n",
    "#             file_name = f\"{data_folder}model_updates/{dataset}_{attack}_{i}.pkl\"\n",
    "#             if not os.path.exists(file_name):\n",
    "#                 print(f\"File {file_name} not found\")\n",
    "#                 continue\n",
    "#             with open(file_name, \"rb\") as file:\n",
    "#                 model_updates = pickle.load(file)\n",
    "\n",
    "\n",
    "# roundNum = 10\n",
    "# dirPath = '../NormalRun/FL_Backdoor_CV/resultWithTime/2024-09-12_23-26-43-avg_NEUROTOXIN-fmnist/'\n",
    "# pklName = os.path.join(dirPath, f'model_updates/fmnist_NEUROTOXIN_{roundNum}.pkl')\n",
    "# participantFilePath = os.path.join(dirPath, 'participants/participants.csv')\n",
    "# # participantFileDF = pd.read_csv(participantFilePath)\n",
    "# # # 提取参与者数组（第一列）和轮次（从第二列开始的部分）\n",
    "# # clients = participantFileDF.iloc[1:, 0].tolist()  # 客户端列表\n",
    "# # roundsArray = participantFileDF.iloc[1:, 1:].to_numpy()  # 轮次数据（50行x30列）\n",
    "# # print(roundsArray)\n",
    "# participants = np.genfromtxt(\n",
    "#     participantFilePath, delimiter=\",\", dtype=None, encoding=\"utf-8\"\n",
    "# )\n",
    "# participants = participants[1:].T\n",
    "# participants_thisRound = participants[roundNum]\n",
    "# print(participants_thisRound)\n",
    "\n",
    "# with open(pklName, 'rb') as f:\n",
    "#     update: Dict[str, torch.Tensor] = pickle.load(f)\n",
    "# # print(update)\n",
    "# # weight0 = update['base_model.model.vision_model.encoder.layers.0.self_attn.k_proj.lora_A.default.weight']\n",
    "# # weight0.shape  # torch.Size([50, 12288])\n",
    "# userUpdates = [torch.empty(0) for _ in range(50)]\n",
    "# for layerKey, values in update.items():\n",
    "#     # print(layerKey)\n",
    "#     # print(values)\n",
    "#     # print(values.shape)  # torch.Size([50, 12288])\n",
    "#     for i in range(values.shape[0]):\n",
    "#         trueUser = participants_thisRound[i]\n",
    "#         userUpdates[trueUser] = torch.cat((userUpdates[trueUser], values[i].cpu()), 0)\n",
    "# print(userUpdates[0].shape)\n",
    "\n",
    "\n",
    "def get_all_user_updates(roundNum: int, dirPath: str) -> torch.Tensor:\n",
    "    # 设置轮次编号和文件路径\n",
    "    # roundNum = 10\n",
    "    # dirPath = '../NormalRun/FL_Backdoor_CV/resultWithTime/2024-09-12_23-26-43-avg-fmnist_NEUROTOXIN/'\n",
    "    pklPrefix = os.path.basename(os.path.normpath(dirPath)).split('-')[-1]\n",
    "    pklName = os.path.join(dirPath, f'model_updates/{pklPrefix}_{roundNum}.pkl')\n",
    "    participantFilePath = os.path.join(dirPath, 'participants/participants.csv')\n",
    "\n",
    "    # 读取参与者数组\n",
    "    participants = np.genfromtxt(\n",
    "        participantFilePath, delimiter=\",\", dtype=None, encoding=\"utf-8\"\n",
    "    )\n",
    "    participants = participants[1:].T\n",
    "    participants_thisRound = participants[roundNum]  # 获取当前轮次的参与者\n",
    "    # print(participants_thisRound)\n",
    "\n",
    "    # 加载 .pkl 文件\n",
    "    with open(pklName, 'rb') as f:\n",
    "        update: Dict[str, torch.Tensor] = pickle.load(f)\n",
    "\n",
    "    # 初始化一个列表来存储每个客户端的更新，使用 GPU 张量\n",
    "    device = torch.device('cuda' if torch.cuda.is_available() else 'cpu')\n",
    "    userUpdates = [torch.empty((0,), device=device) for _ in range(50)]  # 假设50个客户端\n",
    "\n",
    "    # 遍历每个层的更新\n",
    "    for layerKey, values in update.items():\n",
    "        # 将每个值移到 GPU 上\n",
    "        values = values.to(device)\n",
    "        for i in range(values.shape[0]):  # 遍历每个客户端的梯度\n",
    "            trueUser = participants_thisRound[i]  # 获取当前轮次的客户端ID\n",
    "            # 如果为空张量\n",
    "            if userUpdates[trueUser].numel() == 0:\n",
    "                userUpdates[trueUser] = values[i]  # 直接赋值\n",
    "            else:\n",
    "                userUpdates[trueUser] = torch.cat((userUpdates[trueUser], values[i]), 0)  # 在GPU上拼接\n",
    "\n",
    "    userUpdates = torch.stack(userUpdates)  # 转换为张量\n",
    "    # # 打印第一个用户的更新形状来检查结果\n",
    "    # print(userUpdates[0].shape)\n",
    "    return userUpdates"
   ]
  },
  {
   "cell_type": "code",
   "execution_count": 4,
   "metadata": {},
   "outputs": [],
   "source": [
    "def cosine_similarity_matrix(tensor: torch.Tensor) -> torch.Tensor:\n",
    "    \"\"\"\n",
    "    计算一个二维 tensor 中每两个向量之间的余弦相似度矩阵。\n",
    "\n",
    "    参数:\n",
    "    - tensor (torch.Tensor): 形状为 (N, D) 的二维张量，N 是客户端数量，D 是特征维度。\n",
    "\n",
    "    返回:\n",
    "    - similarity_matrix (torch.Tensor): 形状为 (N, N) 的张量，每个元素表示两个向量之间的余弦相似度。\n",
    "    \"\"\"\n",
    "    # 归一化每个向量\n",
    "    normalized_tensor = F.normalize(tensor, p=2, dim=1)\n",
    "    \n",
    "    # 计算余弦相似度矩阵\n",
    "    similarity_matrix = torch.mm(normalized_tensor, normalized_tensor.T)\n",
    "    \n",
    "    return similarity_matrix\n"
   ]
  },
  {
   "cell_type": "code",
   "execution_count": 5,
   "metadata": {},
   "outputs": [
    {
     "name": "stdout",
     "output_type": "stream",
     "text": [
      "torch.Size([50, 2674688])\n",
      "tensor([[-0.0176, -0.0016, -0.0176,  ..., -0.0016, -0.0002,  0.0100],\n",
      "        [-0.0176, -0.0016, -0.0176,  ..., -0.0013, -0.0014,  0.0109],\n",
      "        [-0.0176, -0.0016, -0.0176,  ..., -0.0007, -0.0016,  0.0093],\n",
      "        ...,\n",
      "        [-0.0079, -0.0005, -0.0079,  ..., -0.0012,  0.0008,  0.0040],\n",
      "        [-0.0079, -0.0005, -0.0079,  ..., -0.0015,  0.0009,  0.0034],\n",
      "        [-0.0079, -0.0006, -0.0079,  ..., -0.0012, -0.0004,  0.0037]],\n",
      "       device='cuda:0')\n",
      "torch.Size([50, 50])\n"
     ]
    },
    {
     "data": {
      "image/svg+xml": [
        "<svg xmlns=\"http://www.w3.org/2000/svg\" version=\"1.1\" width=\"800\" height=\"20\">",
        "<text x=\"0\" y=\"15\" fill=\"red\">https://github.com/LetMeFly666/SecFFT/releases/download/v0.0.0/result.2x4.ReLiTu.trueAndRand.png</text>",
        "</svg>"
      ],
      "text/plain": [
       "<Figure size 2000x1000 with 16 Axes>"
      ]
     },
     "metadata": {},
     "output_type": "display_data"
    }
   ],
   "source": [
    "userUpdates_avg_NEUR = get_all_user_updates(10, '../NormalRun/FL_Backdoor_CV/resultWithTime/2024-09-12_23-26-43-avg-fmnist_NEUROTOXIN/')\n",
    "print(userUpdates_avg_NEUR.shape)\n",
    "print(userUpdates_avg_NEUR)\n",
    "userUpdates_avg_MR = get_all_user_updates(10, '../NormalRun/FL_Backdoor_CV/resultWithTime/2024-09-13_12-02-44-avg-fmnist_MR/')\n",
    "\n",
    "similarity_matrix_avg_NEUR = cosine_similarity_matrix(userUpdates_avg_NEUR)\n",
    "print(similarity_matrix_avg_NEUR.shape)\n",
    "similarity_matrix_avg_MR = cosine_similarity_matrix(userUpdates_avg_MR)\n",
    "# print(similarity_matrix_avg_MR.shape)\n",
    "plot_detection_heatmaps(similarity_matrix_avg_NEUR, similarity_matrix_avg_MR)"
   ]
  }
 ],
 "metadata": {
  "kernelspec": {
   "display_name": "clip_lora",
   "language": "python",
   "name": "python3"
  },
  "language_info": {
   "codemirror_mode": {
    "name": "ipython",
    "version": 3
   },
   "file_extension": ".py",
   "mimetype": "text/x-python",
   "name": "python",
   "nbconvert_exporter": "python",
   "pygments_lexer": "ipython3",
   "version": "3.10.14"
  },
  "orig_nbformat": 4
 },
 "nbformat": 4,
 "nbformat_minor": 2
}
